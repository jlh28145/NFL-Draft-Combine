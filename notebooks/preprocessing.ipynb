{
 "cells": [
  {
   "cell_type": "code",
   "execution_count": 2,
   "metadata": {},
   "outputs": [
    {
     "name": "stdout",
     "output_type": "stream",
     "text": [
      "Loaded shape: (3430, 18)\n"
     ]
    },
    {
     "data": {
      "application/vnd.microsoft.datawrangler.viewer.v0+json": {
       "columns": [
        {
         "name": "index",
         "rawType": "int64",
         "type": "integer"
        },
        {
         "name": "season",
         "rawType": "int64",
         "type": "integer"
        },
        {
         "name": "draft_year",
         "rawType": "float64",
         "type": "float"
        },
        {
         "name": "draft_team",
         "rawType": "object",
         "type": "string"
        },
        {
         "name": "draft_round",
         "rawType": "float64",
         "type": "float"
        },
        {
         "name": "draft_ovr",
         "rawType": "float64",
         "type": "float"
        },
        {
         "name": "pfr_id",
         "rawType": "object",
         "type": "string"
        },
        {
         "name": "cfb_id",
         "rawType": "object",
         "type": "string"
        },
        {
         "name": "player_name",
         "rawType": "object",
         "type": "string"
        },
        {
         "name": "pos",
         "rawType": "object",
         "type": "string"
        },
        {
         "name": "school",
         "rawType": "object",
         "type": "string"
        },
        {
         "name": "ht",
         "rawType": "object",
         "type": "string"
        },
        {
         "name": "wt",
         "rawType": "float64",
         "type": "float"
        },
        {
         "name": "forty",
         "rawType": "float64",
         "type": "float"
        },
        {
         "name": "bench",
         "rawType": "float64",
         "type": "float"
        },
        {
         "name": "vertical",
         "rawType": "float64",
         "type": "float"
        },
        {
         "name": "broad_jump",
         "rawType": "float64",
         "type": "float"
        },
        {
         "name": "cone",
         "rawType": "float64",
         "type": "float"
        },
        {
         "name": "shuttle",
         "rawType": "float64",
         "type": "float"
        }
       ],
       "conversionMethod": "pd.DataFrame",
       "ref": "746cf4d7-7466-4737-a83e-2ff7be3fec61",
       "rows": [
        [
         "0",
         "2014",
         "2014.0",
         "Green Bay Packers",
         "5.0",
         "176.0",
         "AbbrJa00",
         "jared-abbrederis-1",
         "Jared Abbrederis",
         "WR",
         "Wisconsin",
         "6-1",
         "195.0",
         "4.5",
         "4.0",
         "30.5",
         "117.0",
         "6.8",
         "4.08"
        ],
        [
         "1",
         "2014",
         "2014.0",
         "Green Bay Packers",
         "2.0",
         "53.0",
         "AdamDa01",
         "davante-adams-1",
         "Davante Adams",
         "WR",
         "Fresno State",
         "6-1",
         "212.0",
         "4.56",
         "14.0",
         "39.5",
         "123.0",
         "6.82",
         "4.3"
        ],
        [
         "2",
         "2014",
         "2014.0",
         "St. Louis Rams",
         "4.0",
         "110.0",
         "AlexMa00",
         "maurice-alexander-1",
         "Mo Alexander",
         "S",
         "Utah State",
         "6-1",
         "220.0",
         "4.5",
         null,
         "38.0",
         "123.0",
         "7.05",
         "4.51"
        ],
        [
         "3",
         "2014",
         "2014.0",
         "Atlanta Falcons",
         "5.0",
         "147.0",
         "AlleRi00",
         "ricardo-allen-1",
         "Ricardo Allen",
         "CB",
         "Purdue",
         "5-9",
         "187.0",
         "4.61",
         "13.0",
         "35.5",
         "117.0",
         null,
         "4.15"
        ],
        [
         "4",
         "2014",
         "2014.0",
         "New York Jets",
         "2.0",
         "49.0",
         "AmarJa00",
         "jace-amaro-1",
         "Jace Amaro",
         "TE",
         "Texas Tech",
         "6-5",
         "265.0",
         "4.74",
         "28.0",
         "33.0",
         "118.0",
         "7.42",
         "4.3"
        ]
       ],
       "shape": {
        "columns": 18,
        "rows": 5
       }
      },
      "text/html": [
       "<div>\n",
       "<style scoped>\n",
       "    .dataframe tbody tr th:only-of-type {\n",
       "        vertical-align: middle;\n",
       "    }\n",
       "\n",
       "    .dataframe tbody tr th {\n",
       "        vertical-align: top;\n",
       "    }\n",
       "\n",
       "    .dataframe thead th {\n",
       "        text-align: right;\n",
       "    }\n",
       "</style>\n",
       "<table border=\"1\" class=\"dataframe\">\n",
       "  <thead>\n",
       "    <tr style=\"text-align: right;\">\n",
       "      <th></th>\n",
       "      <th>season</th>\n",
       "      <th>draft_year</th>\n",
       "      <th>draft_team</th>\n",
       "      <th>draft_round</th>\n",
       "      <th>draft_ovr</th>\n",
       "      <th>pfr_id</th>\n",
       "      <th>cfb_id</th>\n",
       "      <th>player_name</th>\n",
       "      <th>pos</th>\n",
       "      <th>school</th>\n",
       "      <th>ht</th>\n",
       "      <th>wt</th>\n",
       "      <th>forty</th>\n",
       "      <th>bench</th>\n",
       "      <th>vertical</th>\n",
       "      <th>broad_jump</th>\n",
       "      <th>cone</th>\n",
       "      <th>shuttle</th>\n",
       "    </tr>\n",
       "  </thead>\n",
       "  <tbody>\n",
       "    <tr>\n",
       "      <th>0</th>\n",
       "      <td>2014</td>\n",
       "      <td>2014.0</td>\n",
       "      <td>Green Bay Packers</td>\n",
       "      <td>5.0</td>\n",
       "      <td>176.0</td>\n",
       "      <td>AbbrJa00</td>\n",
       "      <td>jared-abbrederis-1</td>\n",
       "      <td>Jared Abbrederis</td>\n",
       "      <td>WR</td>\n",
       "      <td>Wisconsin</td>\n",
       "      <td>6-1</td>\n",
       "      <td>195.0</td>\n",
       "      <td>4.50</td>\n",
       "      <td>4.0</td>\n",
       "      <td>30.5</td>\n",
       "      <td>117.0</td>\n",
       "      <td>6.80</td>\n",
       "      <td>4.08</td>\n",
       "    </tr>\n",
       "    <tr>\n",
       "      <th>1</th>\n",
       "      <td>2014</td>\n",
       "      <td>2014.0</td>\n",
       "      <td>Green Bay Packers</td>\n",
       "      <td>2.0</td>\n",
       "      <td>53.0</td>\n",
       "      <td>AdamDa01</td>\n",
       "      <td>davante-adams-1</td>\n",
       "      <td>Davante Adams</td>\n",
       "      <td>WR</td>\n",
       "      <td>Fresno State</td>\n",
       "      <td>6-1</td>\n",
       "      <td>212.0</td>\n",
       "      <td>4.56</td>\n",
       "      <td>14.0</td>\n",
       "      <td>39.5</td>\n",
       "      <td>123.0</td>\n",
       "      <td>6.82</td>\n",
       "      <td>4.30</td>\n",
       "    </tr>\n",
       "    <tr>\n",
       "      <th>2</th>\n",
       "      <td>2014</td>\n",
       "      <td>2014.0</td>\n",
       "      <td>St. Louis Rams</td>\n",
       "      <td>4.0</td>\n",
       "      <td>110.0</td>\n",
       "      <td>AlexMa00</td>\n",
       "      <td>maurice-alexander-1</td>\n",
       "      <td>Mo Alexander</td>\n",
       "      <td>S</td>\n",
       "      <td>Utah State</td>\n",
       "      <td>6-1</td>\n",
       "      <td>220.0</td>\n",
       "      <td>4.50</td>\n",
       "      <td>NaN</td>\n",
       "      <td>38.0</td>\n",
       "      <td>123.0</td>\n",
       "      <td>7.05</td>\n",
       "      <td>4.51</td>\n",
       "    </tr>\n",
       "    <tr>\n",
       "      <th>3</th>\n",
       "      <td>2014</td>\n",
       "      <td>2014.0</td>\n",
       "      <td>Atlanta Falcons</td>\n",
       "      <td>5.0</td>\n",
       "      <td>147.0</td>\n",
       "      <td>AlleRi00</td>\n",
       "      <td>ricardo-allen-1</td>\n",
       "      <td>Ricardo Allen</td>\n",
       "      <td>CB</td>\n",
       "      <td>Purdue</td>\n",
       "      <td>5-9</td>\n",
       "      <td>187.0</td>\n",
       "      <td>4.61</td>\n",
       "      <td>13.0</td>\n",
       "      <td>35.5</td>\n",
       "      <td>117.0</td>\n",
       "      <td>NaN</td>\n",
       "      <td>4.15</td>\n",
       "    </tr>\n",
       "    <tr>\n",
       "      <th>4</th>\n",
       "      <td>2014</td>\n",
       "      <td>2014.0</td>\n",
       "      <td>New York Jets</td>\n",
       "      <td>2.0</td>\n",
       "      <td>49.0</td>\n",
       "      <td>AmarJa00</td>\n",
       "      <td>jace-amaro-1</td>\n",
       "      <td>Jace Amaro</td>\n",
       "      <td>TE</td>\n",
       "      <td>Texas Tech</td>\n",
       "      <td>6-5</td>\n",
       "      <td>265.0</td>\n",
       "      <td>4.74</td>\n",
       "      <td>28.0</td>\n",
       "      <td>33.0</td>\n",
       "      <td>118.0</td>\n",
       "      <td>7.42</td>\n",
       "      <td>4.30</td>\n",
       "    </tr>\n",
       "  </tbody>\n",
       "</table>\n",
       "</div>"
      ],
      "text/plain": [
       "   season  draft_year         draft_team  draft_round  draft_ovr    pfr_id  \\\n",
       "0    2014      2014.0  Green Bay Packers          5.0      176.0  AbbrJa00   \n",
       "1    2014      2014.0  Green Bay Packers          2.0       53.0  AdamDa01   \n",
       "2    2014      2014.0     St. Louis Rams          4.0      110.0  AlexMa00   \n",
       "3    2014      2014.0    Atlanta Falcons          5.0      147.0  AlleRi00   \n",
       "4    2014      2014.0      New York Jets          2.0       49.0  AmarJa00   \n",
       "\n",
       "                cfb_id       player_name pos        school   ht     wt  forty  \\\n",
       "0   jared-abbrederis-1  Jared Abbrederis  WR     Wisconsin  6-1  195.0   4.50   \n",
       "1      davante-adams-1     Davante Adams  WR  Fresno State  6-1  212.0   4.56   \n",
       "2  maurice-alexander-1      Mo Alexander   S    Utah State  6-1  220.0   4.50   \n",
       "3      ricardo-allen-1     Ricardo Allen  CB        Purdue  5-9  187.0   4.61   \n",
       "4         jace-amaro-1        Jace Amaro  TE    Texas Tech  6-5  265.0   4.74   \n",
       "\n",
       "   bench  vertical  broad_jump  cone  shuttle  \n",
       "0    4.0      30.5       117.0  6.80     4.08  \n",
       "1   14.0      39.5       123.0  6.82     4.30  \n",
       "2    NaN      38.0       123.0  7.05     4.51  \n",
       "3   13.0      35.5       117.0   NaN     4.15  \n",
       "4   28.0      33.0       118.0  7.42     4.30  "
      ]
     },
     "execution_count": 2,
     "metadata": {},
     "output_type": "execute_result"
    }
   ],
   "source": [
    "# 1. Import necessary libraries\n",
    "import pandas as pd\n",
    "import numpy as np\n",
    "\n",
    "# 2. Load data\n",
    "df = pd.read_csv(\"../data/raw/combine_data_2014_2024.csv\")\n",
    "print(f\"Loaded shape: {df.shape}\")\n",
    "df.head()"
   ]
  },
  {
   "cell_type": "code",
   "execution_count": 3,
   "metadata": {},
   "outputs": [
    {
     "name": "stdout",
     "output_type": "stream",
     "text": [
      "Shape after dropping rows without draft year: (2136, 18)\n"
     ]
    }
   ],
   "source": [
    "# 3. Drop rows without 'draft_year'\n",
    "# Since we are interested in players who were drafted, we need to remove players that don't have a draft year.\n",
    "df.dropna(subset=['draft_year'], inplace=True)\n",
    "\n",
    "# Verify if any rows were dropped\n",
    "print(f\"Shape after dropping rows without draft year: {df.shape}\")"
   ]
  },
  {
   "cell_type": "code",
   "execution_count": 4,
   "metadata": {},
   "outputs": [
    {
     "name": "stdout",
     "output_type": "stream",
     "text": [
      "Missing values after imputation:\n",
      "forty         0\n",
      "bench         0\n",
      "vertical      0\n",
      "broad_jump    0\n",
      "cone          0\n",
      "shuttle       0\n",
      "dtype: int64\n"
     ]
    }
   ],
   "source": [
    "# 4. Impute numeric combine metrics\n",
    "# For the columns with missing numeric values, we'll use the median to impute the missing values.\n",
    "numeric_columns = ['forty', 'bench', 'vertical', 'broad_jump', 'cone', 'shuttle']\n",
    "for col in numeric_columns:\n",
    "    df[col].fillna(df[col].median(), inplace=True)\n",
    "\n",
    "# Verify the imputation\n",
    "print(\"Missing values after imputation:\")\n",
    "print(df[numeric_columns].isnull().sum())"
   ]
  },
  {
   "cell_type": "code",
   "execution_count": 5,
   "metadata": {},
   "outputs": [
    {
     "name": "stdout",
     "output_type": "stream",
     "text": [
      "Head after parsing height:\n",
      "        player_name  ht_inches\n",
      "0  Jared Abbrederis       73.0\n",
      "1     Davante Adams       73.0\n",
      "2      Mo Alexander       73.0\n",
      "3     Ricardo Allen       69.0\n",
      "4        Jace Amaro       77.0\n"
     ]
    }
   ],
   "source": [
    "# 5. Parse 'ht' column into inches\n",
    "# Convert height from feet-inches format (e.g., '6-1') to inches (e.g., 73)\n",
    "def parse_height(height_str):\n",
    "    if isinstance(height_str, str):\n",
    "        feet, inches = height_str.split('-')\n",
    "        return int(feet) * 12 + int(inches)\n",
    "    return np.nan\n",
    "\n",
    "df['ht_inches'] = df['ht'].apply(parse_height)\n",
    "\n",
    "# Drop original 'ht' column\n",
    "df.drop(columns=['ht'], inplace=True)\n",
    "\n",
    "# Verify if the parsing was successful\n",
    "print(f\"Head after parsing height:\\n{df[['player_name', 'ht_inches']].head()}\")"
   ]
  },
  {
   "cell_type": "code",
   "execution_count": 6,
   "metadata": {},
   "outputs": [
    {
     "name": "stdout",
     "output_type": "stream",
     "text": [
      "Columns after renaming:\n",
      "Index(['season', 'draft_year', 'draft_team', 'draft_round', 'draft_ovr',\n",
      "       'pfr_id', 'cfb_id', 'player_name', 'pos', 'school', 'wt_lbs',\n",
      "       'forty_time_s', 'bench_reps', 'vertical_in', 'broad_jump_in',\n",
      "       'cone_sec', 'shuttle_sec', 'ht_inch'],\n",
      "      dtype='object')\n"
     ]
    }
   ],
   "source": [
    "# 6. Rename numeric columns to include units\n",
    "df.rename(columns={\n",
    "    'ht_inches': 'ht_inch',\n",
    "    'wt': 'wt_lbs',\n",
    "    'forty': 'forty_time_s',\n",
    "    'bench': 'bench_reps',\n",
    "    'vertical': 'vertical_in',\n",
    "    'broad_jump': 'broad_jump_in',\n",
    "    'cone': 'cone_sec',\n",
    "    'shuttle': 'shuttle_sec'\n",
    "}, inplace=True)\n",
    "\n",
    "# Verify renaming\n",
    "print(f\"Columns after renaming:\\n{df.columns}\")\n"
   ]
  },
  {
   "cell_type": "code",
   "execution_count": null,
   "metadata": {},
   "outputs": [],
   "source": [
    "# Handle outliers using IQR method\n",
    "def cap_outliers(df, cols):\n",
    "    for col in cols:\n",
    "        Q1 = df[col].quantile(0.25)\n",
    "        Q3 = df[col].quantile(0.75)\n",
    "        IQR = Q3 - Q1\n",
    "        lower = Q1 - 1.5 * IQR\n",
    "        upper = Q3 + 1.5 * IQR\n",
    "        df[col] = df[col].clip(lower, upper)\n",
    "    return df\n",
    "\n",
    "combine_metrics = ['wt', 'forty_time_s', 'bench', 'vertical', 'broad_jump', 'cone', 'shuttle']\n",
    "df = cap_outliers(df, combine_metrics)\n"
   ]
  },
  {
   "cell_type": "code",
   "execution_count": null,
   "metadata": {},
   "outputs": [],
   "source": [
    "#BMI = weight (lb) / height (in)^2 × 703\n",
    "df['bmi'] = df['wt'] / (df['ht_inches'] ** 2)"
   ]
  },
  {
   "cell_type": "code",
   "execution_count": null,
   "metadata": {},
   "outputs": [],
   "source": [
    "#Speed Score = (Weight * 200) / (40 time ^ 4)\n",
    "df['speed_score'] = (df['wt'] * 200) / (df['forty_time_s'] ** 4)"
   ]
  },
  {
   "cell_type": "code",
   "execution_count": null,
   "metadata": {},
   "outputs": [],
   "source": [
    "#Burst = Vertical Jump (in) + Broad Jump (in)\n",
    "df['burst_score'] = df['vertical'] + df['broad_jump']"
   ]
  },
  {
   "cell_type": "code",
   "execution_count": null,
   "metadata": {},
   "outputs": [],
   "source": [
    "from sklearn.preprocessing import StandardScaler\n",
    "\n",
    "scale_cols = ['wt', 'forty_time_s', 'bench', 'vertical', 'broad_jump', \n",
    "              'cone', 'shuttle', 'bmi', 'speed_score', 'burst_score']\n",
    "\n",
    "scaler = StandardScaler()\n",
    "df[scale_cols] = scaler.fit_transform(df[scale_cols])\n"
   ]
  },
  {
   "cell_type": "code",
   "execution_count": null,
   "metadata": {},
   "outputs": [],
   "source": [
    "#Drafted/Undrafted Indicator\n",
    "df['was_drafted'] = df['draft_round'].notna().astype(int)"
   ]
  },
  {
   "cell_type": "code",
   "execution_count": 7,
   "metadata": {},
   "outputs": [
    {
     "name": "stdout",
     "output_type": "stream",
     "text": [
      "Preprocessed data saved to: ../data/processed/combine_preprocessed.csv\n",
      "Final shape of preprocessed data: (2136, 18)\n"
     ]
    },
    {
     "data": {
      "application/vnd.microsoft.datawrangler.viewer.v0+json": {
       "columns": [
        {
         "name": "index",
         "rawType": "int64",
         "type": "integer"
        },
        {
         "name": "season",
         "rawType": "int64",
         "type": "integer"
        },
        {
         "name": "draft_year",
         "rawType": "float64",
         "type": "float"
        },
        {
         "name": "draft_team",
         "rawType": "object",
         "type": "string"
        },
        {
         "name": "draft_round",
         "rawType": "float64",
         "type": "float"
        },
        {
         "name": "draft_ovr",
         "rawType": "float64",
         "type": "float"
        },
        {
         "name": "pfr_id",
         "rawType": "object",
         "type": "string"
        },
        {
         "name": "cfb_id",
         "rawType": "object",
         "type": "string"
        },
        {
         "name": "player_name",
         "rawType": "object",
         "type": "string"
        },
        {
         "name": "pos",
         "rawType": "object",
         "type": "string"
        },
        {
         "name": "school",
         "rawType": "object",
         "type": "string"
        },
        {
         "name": "wt_lbs",
         "rawType": "float64",
         "type": "float"
        },
        {
         "name": "forty_time_s",
         "rawType": "float64",
         "type": "float"
        },
        {
         "name": "bench_reps",
         "rawType": "float64",
         "type": "float"
        },
        {
         "name": "vertical_in",
         "rawType": "float64",
         "type": "float"
        },
        {
         "name": "broad_jump_in",
         "rawType": "float64",
         "type": "float"
        },
        {
         "name": "cone_sec",
         "rawType": "float64",
         "type": "float"
        },
        {
         "name": "shuttle_sec",
         "rawType": "float64",
         "type": "float"
        },
        {
         "name": "ht_inch",
         "rawType": "float64",
         "type": "float"
        }
       ],
       "conversionMethod": "pd.DataFrame",
       "ref": "254411d2-c5ad-4a69-b486-88934c768433",
       "rows": [
        [
         "0",
         "2014",
         "2014.0",
         "Green Bay Packers",
         "5.0",
         "176.0",
         "AbbrJa00",
         "jared-abbrederis-1",
         "Jared Abbrederis",
         "WR",
         "Wisconsin",
         "195.0",
         "4.5",
         "4.0",
         "30.5",
         "117.0",
         "6.8",
         "4.08",
         "73.0"
        ],
        [
         "1",
         "2014",
         "2014.0",
         "Green Bay Packers",
         "2.0",
         "53.0",
         "AdamDa01",
         "davante-adams-1",
         "Davante Adams",
         "WR",
         "Fresno State",
         "212.0",
         "4.56",
         "14.0",
         "39.5",
         "123.0",
         "6.82",
         "4.3",
         "73.0"
        ],
        [
         "2",
         "2014",
         "2014.0",
         "St. Louis Rams",
         "4.0",
         "110.0",
         "AlexMa00",
         "maurice-alexander-1",
         "Mo Alexander",
         "S",
         "Utah State",
         "220.0",
         "4.5",
         "20.0",
         "38.0",
         "123.0",
         "7.05",
         "4.51",
         "73.0"
        ],
        [
         "3",
         "2014",
         "2014.0",
         "Atlanta Falcons",
         "5.0",
         "147.0",
         "AlleRi00",
         "ricardo-allen-1",
         "Ricardo Allen",
         "CB",
         "Purdue",
         "187.0",
         "4.61",
         "13.0",
         "35.5",
         "117.0",
         "7.16",
         "4.15",
         "69.0"
        ],
        [
         "4",
         "2014",
         "2014.0",
         "New York Jets",
         "2.0",
         "49.0",
         "AmarJa00",
         "jace-amaro-1",
         "Jace Amaro",
         "TE",
         "Texas Tech",
         "265.0",
         "4.74",
         "28.0",
         "33.0",
         "118.0",
         "7.42",
         "4.3",
         "77.0"
        ]
       ],
       "shape": {
        "columns": 18,
        "rows": 5
       }
      },
      "text/html": [
       "<div>\n",
       "<style scoped>\n",
       "    .dataframe tbody tr th:only-of-type {\n",
       "        vertical-align: middle;\n",
       "    }\n",
       "\n",
       "    .dataframe tbody tr th {\n",
       "        vertical-align: top;\n",
       "    }\n",
       "\n",
       "    .dataframe thead th {\n",
       "        text-align: right;\n",
       "    }\n",
       "</style>\n",
       "<table border=\"1\" class=\"dataframe\">\n",
       "  <thead>\n",
       "    <tr style=\"text-align: right;\">\n",
       "      <th></th>\n",
       "      <th>season</th>\n",
       "      <th>draft_year</th>\n",
       "      <th>draft_team</th>\n",
       "      <th>draft_round</th>\n",
       "      <th>draft_ovr</th>\n",
       "      <th>pfr_id</th>\n",
       "      <th>cfb_id</th>\n",
       "      <th>player_name</th>\n",
       "      <th>pos</th>\n",
       "      <th>school</th>\n",
       "      <th>wt_lbs</th>\n",
       "      <th>forty_time_s</th>\n",
       "      <th>bench_reps</th>\n",
       "      <th>vertical_in</th>\n",
       "      <th>broad_jump_in</th>\n",
       "      <th>cone_sec</th>\n",
       "      <th>shuttle_sec</th>\n",
       "      <th>ht_inch</th>\n",
       "    </tr>\n",
       "  </thead>\n",
       "  <tbody>\n",
       "    <tr>\n",
       "      <th>0</th>\n",
       "      <td>2014</td>\n",
       "      <td>2014.0</td>\n",
       "      <td>Green Bay Packers</td>\n",
       "      <td>5.0</td>\n",
       "      <td>176.0</td>\n",
       "      <td>AbbrJa00</td>\n",
       "      <td>jared-abbrederis-1</td>\n",
       "      <td>Jared Abbrederis</td>\n",
       "      <td>WR</td>\n",
       "      <td>Wisconsin</td>\n",
       "      <td>195.0</td>\n",
       "      <td>4.50</td>\n",
       "      <td>4.0</td>\n",
       "      <td>30.5</td>\n",
       "      <td>117.0</td>\n",
       "      <td>6.80</td>\n",
       "      <td>4.08</td>\n",
       "      <td>73.0</td>\n",
       "    </tr>\n",
       "    <tr>\n",
       "      <th>1</th>\n",
       "      <td>2014</td>\n",
       "      <td>2014.0</td>\n",
       "      <td>Green Bay Packers</td>\n",
       "      <td>2.0</td>\n",
       "      <td>53.0</td>\n",
       "      <td>AdamDa01</td>\n",
       "      <td>davante-adams-1</td>\n",
       "      <td>Davante Adams</td>\n",
       "      <td>WR</td>\n",
       "      <td>Fresno State</td>\n",
       "      <td>212.0</td>\n",
       "      <td>4.56</td>\n",
       "      <td>14.0</td>\n",
       "      <td>39.5</td>\n",
       "      <td>123.0</td>\n",
       "      <td>6.82</td>\n",
       "      <td>4.30</td>\n",
       "      <td>73.0</td>\n",
       "    </tr>\n",
       "    <tr>\n",
       "      <th>2</th>\n",
       "      <td>2014</td>\n",
       "      <td>2014.0</td>\n",
       "      <td>St. Louis Rams</td>\n",
       "      <td>4.0</td>\n",
       "      <td>110.0</td>\n",
       "      <td>AlexMa00</td>\n",
       "      <td>maurice-alexander-1</td>\n",
       "      <td>Mo Alexander</td>\n",
       "      <td>S</td>\n",
       "      <td>Utah State</td>\n",
       "      <td>220.0</td>\n",
       "      <td>4.50</td>\n",
       "      <td>20.0</td>\n",
       "      <td>38.0</td>\n",
       "      <td>123.0</td>\n",
       "      <td>7.05</td>\n",
       "      <td>4.51</td>\n",
       "      <td>73.0</td>\n",
       "    </tr>\n",
       "    <tr>\n",
       "      <th>3</th>\n",
       "      <td>2014</td>\n",
       "      <td>2014.0</td>\n",
       "      <td>Atlanta Falcons</td>\n",
       "      <td>5.0</td>\n",
       "      <td>147.0</td>\n",
       "      <td>AlleRi00</td>\n",
       "      <td>ricardo-allen-1</td>\n",
       "      <td>Ricardo Allen</td>\n",
       "      <td>CB</td>\n",
       "      <td>Purdue</td>\n",
       "      <td>187.0</td>\n",
       "      <td>4.61</td>\n",
       "      <td>13.0</td>\n",
       "      <td>35.5</td>\n",
       "      <td>117.0</td>\n",
       "      <td>7.16</td>\n",
       "      <td>4.15</td>\n",
       "      <td>69.0</td>\n",
       "    </tr>\n",
       "    <tr>\n",
       "      <th>4</th>\n",
       "      <td>2014</td>\n",
       "      <td>2014.0</td>\n",
       "      <td>New York Jets</td>\n",
       "      <td>2.0</td>\n",
       "      <td>49.0</td>\n",
       "      <td>AmarJa00</td>\n",
       "      <td>jace-amaro-1</td>\n",
       "      <td>Jace Amaro</td>\n",
       "      <td>TE</td>\n",
       "      <td>Texas Tech</td>\n",
       "      <td>265.0</td>\n",
       "      <td>4.74</td>\n",
       "      <td>28.0</td>\n",
       "      <td>33.0</td>\n",
       "      <td>118.0</td>\n",
       "      <td>7.42</td>\n",
       "      <td>4.30</td>\n",
       "      <td>77.0</td>\n",
       "    </tr>\n",
       "  </tbody>\n",
       "</table>\n",
       "</div>"
      ],
      "text/plain": [
       "   season  draft_year         draft_team  draft_round  draft_ovr    pfr_id  \\\n",
       "0    2014      2014.0  Green Bay Packers          5.0      176.0  AbbrJa00   \n",
       "1    2014      2014.0  Green Bay Packers          2.0       53.0  AdamDa01   \n",
       "2    2014      2014.0     St. Louis Rams          4.0      110.0  AlexMa00   \n",
       "3    2014      2014.0    Atlanta Falcons          5.0      147.0  AlleRi00   \n",
       "4    2014      2014.0      New York Jets          2.0       49.0  AmarJa00   \n",
       "\n",
       "                cfb_id       player_name pos        school  wt_lbs  \\\n",
       "0   jared-abbrederis-1  Jared Abbrederis  WR     Wisconsin   195.0   \n",
       "1      davante-adams-1     Davante Adams  WR  Fresno State   212.0   \n",
       "2  maurice-alexander-1      Mo Alexander   S    Utah State   220.0   \n",
       "3      ricardo-allen-1     Ricardo Allen  CB        Purdue   187.0   \n",
       "4         jace-amaro-1        Jace Amaro  TE    Texas Tech   265.0   \n",
       "\n",
       "   forty_time_s  bench_reps  vertical_in  broad_jump_in  cone_sec  \\\n",
       "0          4.50         4.0         30.5          117.0      6.80   \n",
       "1          4.56        14.0         39.5          123.0      6.82   \n",
       "2          4.50        20.0         38.0          123.0      7.05   \n",
       "3          4.61        13.0         35.5          117.0      7.16   \n",
       "4          4.74        28.0         33.0          118.0      7.42   \n",
       "\n",
       "   shuttle_sec  ht_inch  \n",
       "0         4.08     73.0  \n",
       "1         4.30     73.0  \n",
       "2         4.51     73.0  \n",
       "3         4.15     69.0  \n",
       "4         4.30     77.0  "
      ]
     },
     "execution_count": 7,
     "metadata": {},
     "output_type": "execute_result"
    }
   ],
   "source": [
    "# 7. Save the cleaned data to a new CSV for later use\n",
    "processed_data_path = \"../data/processed/combine_preprocessed.csv\"\n",
    "df.to_csv(processed_data_path, index=False)\n",
    "\n",
    "# Confirm data saved\n",
    "print(f\"Preprocessed data saved to: {processed_data_path}\")\n",
    "\n",
    "# 8. Final check of the data\n",
    "print(f\"Final shape of preprocessed data: {df.shape}\")\n",
    "df.head()"
   ]
  }
 ],
 "metadata": {
  "kernelspec": {
   "display_name": ".venv",
   "language": "python",
   "name": "python3"
  },
  "language_info": {
   "codemirror_mode": {
    "name": "ipython",
    "version": 3
   },
   "file_extension": ".py",
   "mimetype": "text/x-python",
   "name": "python",
   "nbconvert_exporter": "python",
   "pygments_lexer": "ipython3",
   "version": "3.10.12"
  }
 },
 "nbformat": 4,
 "nbformat_minor": 2
}
