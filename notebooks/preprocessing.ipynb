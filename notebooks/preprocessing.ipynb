{
 "cells": [
  {
   "cell_type": "code",
   "execution_count": 45,
   "metadata": {},
   "outputs": [
    {
     "name": "stdout",
     "output_type": "stream",
     "text": [
      "Loaded shape: (3430, 18)\n"
     ]
    },
    {
     "data": {
      "application/vnd.microsoft.datawrangler.viewer.v0+json": {
       "columns": [
        {
         "name": "index",
         "rawType": "int64",
         "type": "integer"
        },
        {
         "name": "season",
         "rawType": "int64",
         "type": "integer"
        },
        {
         "name": "draft_year",
         "rawType": "float64",
         "type": "float"
        },
        {
         "name": "draft_team",
         "rawType": "object",
         "type": "string"
        },
        {
         "name": "draft_round",
         "rawType": "float64",
         "type": "float"
        },
        {
         "name": "draft_ovr",
         "rawType": "float64",
         "type": "float"
        },
        {
         "name": "pfr_id",
         "rawType": "object",
         "type": "string"
        },
        {
         "name": "cfb_id",
         "rawType": "object",
         "type": "string"
        },
        {
         "name": "player_name",
         "rawType": "object",
         "type": "string"
        },
        {
         "name": "pos",
         "rawType": "object",
         "type": "string"
        },
        {
         "name": "school",
         "rawType": "object",
         "type": "string"
        },
        {
         "name": "ht",
         "rawType": "object",
         "type": "string"
        },
        {
         "name": "wt",
         "rawType": "float64",
         "type": "float"
        },
        {
         "name": "forty",
         "rawType": "float64",
         "type": "float"
        },
        {
         "name": "bench",
         "rawType": "float64",
         "type": "float"
        },
        {
         "name": "vertical",
         "rawType": "float64",
         "type": "float"
        },
        {
         "name": "broad_jump",
         "rawType": "float64",
         "type": "float"
        },
        {
         "name": "cone",
         "rawType": "float64",
         "type": "float"
        },
        {
         "name": "shuttle",
         "rawType": "float64",
         "type": "float"
        }
       ],
       "conversionMethod": "pd.DataFrame",
       "ref": "00c19f94-e288-42b9-9471-eee6e0059837",
       "rows": [
        [
         "0",
         "2014",
         "2014.0",
         "Green Bay Packers",
         "5.0",
         "176.0",
         "AbbrJa00",
         "jared-abbrederis-1",
         "Jared Abbrederis",
         "WR",
         "Wisconsin",
         "6-1",
         "195.0",
         "4.5",
         "4.0",
         "30.5",
         "117.0",
         "6.8",
         "4.08"
        ],
        [
         "1",
         "2014",
         "2014.0",
         "Green Bay Packers",
         "2.0",
         "53.0",
         "AdamDa01",
         "davante-adams-1",
         "Davante Adams",
         "WR",
         "Fresno State",
         "6-1",
         "212.0",
         "4.56",
         "14.0",
         "39.5",
         "123.0",
         "6.82",
         "4.3"
        ],
        [
         "2",
         "2014",
         "2014.0",
         "St. Louis Rams",
         "4.0",
         "110.0",
         "AlexMa00",
         "maurice-alexander-1",
         "Mo Alexander",
         "S",
         "Utah State",
         "6-1",
         "220.0",
         "4.5",
         null,
         "38.0",
         "123.0",
         "7.05",
         "4.51"
        ],
        [
         "3",
         "2014",
         "2014.0",
         "Atlanta Falcons",
         "5.0",
         "147.0",
         "AlleRi00",
         "ricardo-allen-1",
         "Ricardo Allen",
         "CB",
         "Purdue",
         "5-9",
         "187.0",
         "4.61",
         "13.0",
         "35.5",
         "117.0",
         null,
         "4.15"
        ],
        [
         "4",
         "2014",
         "2014.0",
         "New York Jets",
         "2.0",
         "49.0",
         "AmarJa00",
         "jace-amaro-1",
         "Jace Amaro",
         "TE",
         "Texas Tech",
         "6-5",
         "265.0",
         "4.74",
         "28.0",
         "33.0",
         "118.0",
         "7.42",
         "4.3"
        ]
       ],
       "shape": {
        "columns": 18,
        "rows": 5
       }
      },
      "text/html": [
       "<div>\n",
       "<style scoped>\n",
       "    .dataframe tbody tr th:only-of-type {\n",
       "        vertical-align: middle;\n",
       "    }\n",
       "\n",
       "    .dataframe tbody tr th {\n",
       "        vertical-align: top;\n",
       "    }\n",
       "\n",
       "    .dataframe thead th {\n",
       "        text-align: right;\n",
       "    }\n",
       "</style>\n",
       "<table border=\"1\" class=\"dataframe\">\n",
       "  <thead>\n",
       "    <tr style=\"text-align: right;\">\n",
       "      <th></th>\n",
       "      <th>season</th>\n",
       "      <th>draft_year</th>\n",
       "      <th>draft_team</th>\n",
       "      <th>draft_round</th>\n",
       "      <th>draft_ovr</th>\n",
       "      <th>pfr_id</th>\n",
       "      <th>cfb_id</th>\n",
       "      <th>player_name</th>\n",
       "      <th>pos</th>\n",
       "      <th>school</th>\n",
       "      <th>ht</th>\n",
       "      <th>wt</th>\n",
       "      <th>forty</th>\n",
       "      <th>bench</th>\n",
       "      <th>vertical</th>\n",
       "      <th>broad_jump</th>\n",
       "      <th>cone</th>\n",
       "      <th>shuttle</th>\n",
       "    </tr>\n",
       "  </thead>\n",
       "  <tbody>\n",
       "    <tr>\n",
       "      <th>0</th>\n",
       "      <td>2014</td>\n",
       "      <td>2014.0</td>\n",
       "      <td>Green Bay Packers</td>\n",
       "      <td>5.0</td>\n",
       "      <td>176.0</td>\n",
       "      <td>AbbrJa00</td>\n",
       "      <td>jared-abbrederis-1</td>\n",
       "      <td>Jared Abbrederis</td>\n",
       "      <td>WR</td>\n",
       "      <td>Wisconsin</td>\n",
       "      <td>6-1</td>\n",
       "      <td>195.0</td>\n",
       "      <td>4.50</td>\n",
       "      <td>4.0</td>\n",
       "      <td>30.5</td>\n",
       "      <td>117.0</td>\n",
       "      <td>6.80</td>\n",
       "      <td>4.08</td>\n",
       "    </tr>\n",
       "    <tr>\n",
       "      <th>1</th>\n",
       "      <td>2014</td>\n",
       "      <td>2014.0</td>\n",
       "      <td>Green Bay Packers</td>\n",
       "      <td>2.0</td>\n",
       "      <td>53.0</td>\n",
       "      <td>AdamDa01</td>\n",
       "      <td>davante-adams-1</td>\n",
       "      <td>Davante Adams</td>\n",
       "      <td>WR</td>\n",
       "      <td>Fresno State</td>\n",
       "      <td>6-1</td>\n",
       "      <td>212.0</td>\n",
       "      <td>4.56</td>\n",
       "      <td>14.0</td>\n",
       "      <td>39.5</td>\n",
       "      <td>123.0</td>\n",
       "      <td>6.82</td>\n",
       "      <td>4.30</td>\n",
       "    </tr>\n",
       "    <tr>\n",
       "      <th>2</th>\n",
       "      <td>2014</td>\n",
       "      <td>2014.0</td>\n",
       "      <td>St. Louis Rams</td>\n",
       "      <td>4.0</td>\n",
       "      <td>110.0</td>\n",
       "      <td>AlexMa00</td>\n",
       "      <td>maurice-alexander-1</td>\n",
       "      <td>Mo Alexander</td>\n",
       "      <td>S</td>\n",
       "      <td>Utah State</td>\n",
       "      <td>6-1</td>\n",
       "      <td>220.0</td>\n",
       "      <td>4.50</td>\n",
       "      <td>NaN</td>\n",
       "      <td>38.0</td>\n",
       "      <td>123.0</td>\n",
       "      <td>7.05</td>\n",
       "      <td>4.51</td>\n",
       "    </tr>\n",
       "    <tr>\n",
       "      <th>3</th>\n",
       "      <td>2014</td>\n",
       "      <td>2014.0</td>\n",
       "      <td>Atlanta Falcons</td>\n",
       "      <td>5.0</td>\n",
       "      <td>147.0</td>\n",
       "      <td>AlleRi00</td>\n",
       "      <td>ricardo-allen-1</td>\n",
       "      <td>Ricardo Allen</td>\n",
       "      <td>CB</td>\n",
       "      <td>Purdue</td>\n",
       "      <td>5-9</td>\n",
       "      <td>187.0</td>\n",
       "      <td>4.61</td>\n",
       "      <td>13.0</td>\n",
       "      <td>35.5</td>\n",
       "      <td>117.0</td>\n",
       "      <td>NaN</td>\n",
       "      <td>4.15</td>\n",
       "    </tr>\n",
       "    <tr>\n",
       "      <th>4</th>\n",
       "      <td>2014</td>\n",
       "      <td>2014.0</td>\n",
       "      <td>New York Jets</td>\n",
       "      <td>2.0</td>\n",
       "      <td>49.0</td>\n",
       "      <td>AmarJa00</td>\n",
       "      <td>jace-amaro-1</td>\n",
       "      <td>Jace Amaro</td>\n",
       "      <td>TE</td>\n",
       "      <td>Texas Tech</td>\n",
       "      <td>6-5</td>\n",
       "      <td>265.0</td>\n",
       "      <td>4.74</td>\n",
       "      <td>28.0</td>\n",
       "      <td>33.0</td>\n",
       "      <td>118.0</td>\n",
       "      <td>7.42</td>\n",
       "      <td>4.30</td>\n",
       "    </tr>\n",
       "  </tbody>\n",
       "</table>\n",
       "</div>"
      ],
      "text/plain": [
       "   season  draft_year         draft_team  draft_round  draft_ovr    pfr_id  \\\n",
       "0    2014      2014.0  Green Bay Packers          5.0      176.0  AbbrJa00   \n",
       "1    2014      2014.0  Green Bay Packers          2.0       53.0  AdamDa01   \n",
       "2    2014      2014.0     St. Louis Rams          4.0      110.0  AlexMa00   \n",
       "3    2014      2014.0    Atlanta Falcons          5.0      147.0  AlleRi00   \n",
       "4    2014      2014.0      New York Jets          2.0       49.0  AmarJa00   \n",
       "\n",
       "                cfb_id       player_name pos        school   ht     wt  forty  \\\n",
       "0   jared-abbrederis-1  Jared Abbrederis  WR     Wisconsin  6-1  195.0   4.50   \n",
       "1      davante-adams-1     Davante Adams  WR  Fresno State  6-1  212.0   4.56   \n",
       "2  maurice-alexander-1      Mo Alexander   S    Utah State  6-1  220.0   4.50   \n",
       "3      ricardo-allen-1     Ricardo Allen  CB        Purdue  5-9  187.0   4.61   \n",
       "4         jace-amaro-1        Jace Amaro  TE    Texas Tech  6-5  265.0   4.74   \n",
       "\n",
       "   bench  vertical  broad_jump  cone  shuttle  \n",
       "0    4.0      30.5       117.0  6.80     4.08  \n",
       "1   14.0      39.5       123.0  6.82     4.30  \n",
       "2    NaN      38.0       123.0  7.05     4.51  \n",
       "3   13.0      35.5       117.0   NaN     4.15  \n",
       "4   28.0      33.0       118.0  7.42     4.30  "
      ]
     },
     "execution_count": 45,
     "metadata": {},
     "output_type": "execute_result"
    }
   ],
   "source": [
    "# 1. Import necessary libraries\n",
    "import pandas as pd\n",
    "import numpy as np\n",
    "from sklearn.preprocessing import StandardScaler\n",
    "\n",
    "# 2. Load data\n",
    "df = pd.read_csv(\"../data/raw/combine_data_2014_2024.csv\")\n",
    "print(f\"Loaded shape: {df.shape}\")\n",
    "df.head()"
   ]
  },
  {
   "cell_type": "code",
   "execution_count": 46,
   "metadata": {},
   "outputs": [
    {
     "name": "stdout",
     "output_type": "stream",
     "text": [
      "Shape after dropping rows without draft year: (2136, 18)\n"
     ]
    }
   ],
   "source": [
    "# 3. Drop rows without 'draft_year'\n",
    "# Since we are interested in players who were drafted, we need to remove players that don't have a draft year.\n",
    "df.dropna(subset=['draft_year'], inplace=True)\n",
    "\n",
    "# Verify if any rows were dropped\n",
    "print(f\"Shape after dropping rows without draft year: {df.shape}\")"
   ]
  },
  {
   "cell_type": "code",
   "execution_count": 47,
   "metadata": {},
   "outputs": [
    {
     "name": "stdout",
     "output_type": "stream",
     "text": [
      "Missing values after imputation:\n",
      "forty         0\n",
      "bench         0\n",
      "vertical      0\n",
      "broad_jump    0\n",
      "cone          0\n",
      "shuttle       0\n",
      "dtype: int64\n"
     ]
    }
   ],
   "source": [
    "# 4. Impute numeric combine metrics\n",
    "# For the columns with missing numeric values, we'll use the median to impute the missing values.\n",
    "numeric_columns = ['forty', 'bench', 'vertical', 'broad_jump', 'cone', 'shuttle']\n",
    "for col in numeric_columns:\n",
    "    df[col].fillna(df[col].median(), inplace=True)\n",
    "\n",
    "# Verify the imputation\n",
    "print(\"Missing values after imputation:\")\n",
    "print(df[numeric_columns].isnull().sum())"
   ]
  },
  {
   "cell_type": "code",
   "execution_count": 48,
   "metadata": {},
   "outputs": [
    {
     "name": "stdout",
     "output_type": "stream",
     "text": [
      "Head after parsing height:\n",
      "        player_name  ht_inches\n",
      "0  Jared Abbrederis       73.0\n",
      "1     Davante Adams       73.0\n",
      "2      Mo Alexander       73.0\n",
      "3     Ricardo Allen       69.0\n",
      "4        Jace Amaro       77.0\n"
     ]
    }
   ],
   "source": [
    "# 5. Parse 'ht' column into inches\n",
    "# Convert height from feet-inches format (e.g., '6-1') to inches (e.g., 73)\n",
    "def parse_height(height_str):\n",
    "    if isinstance(height_str, str):\n",
    "        feet, inches = height_str.split('-')\n",
    "        return int(feet) * 12 + int(inches)\n",
    "    return np.nan\n",
    "\n",
    "df['ht_inches'] = df['ht'].apply(parse_height)\n",
    "\n",
    "# Drop original 'ht' column\n",
    "df.drop(columns=['ht'], inplace=True)\n",
    "\n",
    "# Verify if the parsing was successful\n",
    "print(f\"Head after parsing height:\\n{df[['player_name', 'ht_inches']].head()}\")"
   ]
  },
  {
   "cell_type": "code",
   "execution_count": 49,
   "metadata": {},
   "outputs": [
    {
     "name": "stdout",
     "output_type": "stream",
     "text": [
      "Columns after renaming:\n",
      "Index(['season', 'draft_year', 'draft_team', 'draft_round', 'draft_ovr',\n",
      "       'pfr_id', 'cfb_id', 'player_name', 'pos', 'school', 'wt_lbs',\n",
      "       'forty_time_s', 'bench_reps', 'vertical_in', 'broad_jump_in',\n",
      "       'cone_sec', 'shuttle_sec', 'ht_inch'],\n",
      "      dtype='object')\n"
     ]
    }
   ],
   "source": [
    "# 6. Rename numeric columns to include units\n",
    "df.rename(columns={\n",
    "    'ht_inches': 'ht_inch',\n",
    "    'wt': 'wt_lbs',\n",
    "    'forty': 'forty_time_s',\n",
    "    'bench': 'bench_reps',\n",
    "    'vertical': 'vertical_in',\n",
    "    'broad_jump': 'broad_jump_in',\n",
    "    'cone': 'cone_sec',\n",
    "    'shuttle': 'shuttle_sec'\n",
    "}, inplace=True)\n",
    "\n",
    "# Verify renaming\n",
    "print(f\"Columns after renaming:\\n{df.columns}\")\n"
   ]
  },
  {
   "cell_type": "code",
   "execution_count": 50,
   "metadata": {},
   "outputs": [],
   "source": [
    "# Handle outliers using IQR method\n",
    "def cap_outliers(df, cols):\n",
    "    for col in cols:\n",
    "        Q1 = df[col].quantile(0.25)\n",
    "        Q3 = df[col].quantile(0.75)\n",
    "        IQR = Q3 - Q1\n",
    "        lower = Q1 - 1.5 * IQR\n",
    "        upper = Q3 + 1.5 * IQR\n",
    "        df[col] = df[col].clip(lower, upper)\n",
    "    return df\n",
    "\n",
    "combine_metrics = ['wt_lbs', 'forty_time_s', 'bench_reps', 'vertical_in', 'broad_jump_in', 'cone_sec', 'shuttle_sec']\n",
    "df = cap_outliers(df, combine_metrics)\n"
   ]
  },
  {
   "cell_type": "code",
   "execution_count": 51,
   "metadata": {},
   "outputs": [],
   "source": [
    "#BMI = weight (lb) / height (in)^2 × 703\n",
    "df['bmi'] = df['wt_lbs'] / (df['ht_inch'] ** 2)"
   ]
  },
  {
   "cell_type": "code",
   "execution_count": 52,
   "metadata": {},
   "outputs": [],
   "source": [
    "#Speed Score = (Weight * 200) / (40 time ^ 4)\n",
    "df['speed_score'] = (df['wt_lbs'] * 200) / (df['forty_time_s'] ** 4)"
   ]
  },
  {
   "cell_type": "code",
   "execution_count": 53,
   "metadata": {},
   "outputs": [],
   "source": [
    "#Burst = Vertical Jump (in) + Broad Jump (in)\n",
    "df['burst_score'] = df['vertical_in'] + df['broad_jump_in']"
   ]
  },
  {
   "cell_type": "code",
   "execution_count": 54,
   "metadata": {},
   "outputs": [],
   "source": [
    "scale_cols = ['wt_lbs', 'forty_time_s', 'bench_reps', 'vertical_in', 'broad_jump_in', 'cone_sec', 'shuttle_sec', \n",
    "              'bmi', 'ht_inch', 'speed_score', 'burst_score']\n",
    "\n",
    "scaler = StandardScaler()\n",
    "df[scale_cols] = scaler.fit_transform(df[scale_cols])\n"
   ]
  },
  {
   "cell_type": "code",
   "execution_count": 55,
   "metadata": {},
   "outputs": [],
   "source": [
    "#Drafted/Undrafted Indicator\n",
    "df['was_drafted'] = df['draft_round'].notna().astype(int)"
   ]
  },
  {
   "cell_type": "code",
   "execution_count": 56,
   "metadata": {},
   "outputs": [
    {
     "name": "stdout",
     "output_type": "stream",
     "text": [
      "Index(['season', 'draft_year', 'draft_round', 'draft_ovr', 'wt_lbs',\n",
      "       'forty_time_s', 'bench_reps', 'vertical_in', 'broad_jump_in',\n",
      "       'cone_sec', 'shuttle_sec', 'ht_inch', 'bmi', 'speed_score',\n",
      "       'burst_score', 'was_drafted', 'pos_CB', 'pos_DB', 'pos_DE', 'pos_DL',\n",
      "       'pos_DT', 'pos_EDGE', 'pos_FB', 'pos_ILB', 'pos_K', 'pos_LB', 'pos_LS',\n",
      "       'pos_OG', 'pos_OL', 'pos_OLB', 'pos_OT', 'pos_P', 'pos_QB', 'pos_RB',\n",
      "       'pos_S', 'pos_TE', 'pos_WR', 'school_encoded'],\n",
      "      dtype='object')\n"
     ]
    }
   ],
   "source": [
    "# Drop unused or ID-like columns\n",
    "df_model = df.drop(['player_name', 'pfr_id', 'cfb_id', 'draft_team'], axis=1)\n",
    "\n",
    "# One-hot encode position\n",
    "df_model = pd.get_dummies(df_model, columns=['pos'], drop_first=True)\n",
    "\n",
    "# Frequency encode school\n",
    "school_freq = df['school'].value_counts(normalize=True)\n",
    "df_model['school_encoded'] = df['school'].map(school_freq)\n",
    "\n",
    "# Drop original school column\n",
    "df_model.drop('school', axis=1, inplace=True)\n",
    "\n",
    "# Final check\n",
    "print(df_model.columns)"
   ]
  },
  {
   "cell_type": "code",
   "execution_count": 57,
   "metadata": {},
   "outputs": [
    {
     "name": "stdout",
     "output_type": "stream",
     "text": [
      "Preprocessed data saved to: ../data/processed/combine_preprocessed.csv\n",
      "Final shape of preprocessed data: (2136, 38)\n"
     ]
    },
    {
     "data": {
      "application/vnd.microsoft.datawrangler.viewer.v0+json": {
       "columns": [
        {
         "name": "index",
         "rawType": "int64",
         "type": "integer"
        },
        {
         "name": "season",
         "rawType": "int64",
         "type": "integer"
        },
        {
         "name": "draft_year",
         "rawType": "float64",
         "type": "float"
        },
        {
         "name": "draft_round",
         "rawType": "float64",
         "type": "float"
        },
        {
         "name": "draft_ovr",
         "rawType": "float64",
         "type": "float"
        },
        {
         "name": "wt_lbs",
         "rawType": "float64",
         "type": "float"
        },
        {
         "name": "forty_time_s",
         "rawType": "float64",
         "type": "float"
        },
        {
         "name": "bench_reps",
         "rawType": "float64",
         "type": "float"
        },
        {
         "name": "vertical_in",
         "rawType": "float64",
         "type": "float"
        },
        {
         "name": "broad_jump_in",
         "rawType": "float64",
         "type": "float"
        },
        {
         "name": "cone_sec",
         "rawType": "float64",
         "type": "float"
        },
        {
         "name": "shuttle_sec",
         "rawType": "float64",
         "type": "float"
        },
        {
         "name": "ht_inch",
         "rawType": "float64",
         "type": "float"
        },
        {
         "name": "bmi",
         "rawType": "float64",
         "type": "float"
        },
        {
         "name": "speed_score",
         "rawType": "float64",
         "type": "float"
        },
        {
         "name": "burst_score",
         "rawType": "float64",
         "type": "float"
        },
        {
         "name": "was_drafted",
         "rawType": "int64",
         "type": "integer"
        },
        {
         "name": "pos_CB",
         "rawType": "uint8",
         "type": "integer"
        },
        {
         "name": "pos_DB",
         "rawType": "uint8",
         "type": "integer"
        },
        {
         "name": "pos_DE",
         "rawType": "uint8",
         "type": "integer"
        },
        {
         "name": "pos_DL",
         "rawType": "uint8",
         "type": "integer"
        },
        {
         "name": "pos_DT",
         "rawType": "uint8",
         "type": "integer"
        },
        {
         "name": "pos_EDGE",
         "rawType": "uint8",
         "type": "integer"
        },
        {
         "name": "pos_FB",
         "rawType": "uint8",
         "type": "integer"
        },
        {
         "name": "pos_ILB",
         "rawType": "uint8",
         "type": "integer"
        },
        {
         "name": "pos_K",
         "rawType": "uint8",
         "type": "integer"
        },
        {
         "name": "pos_LB",
         "rawType": "uint8",
         "type": "integer"
        },
        {
         "name": "pos_LS",
         "rawType": "uint8",
         "type": "integer"
        },
        {
         "name": "pos_OG",
         "rawType": "uint8",
         "type": "integer"
        },
        {
         "name": "pos_OL",
         "rawType": "uint8",
         "type": "integer"
        },
        {
         "name": "pos_OLB",
         "rawType": "uint8",
         "type": "integer"
        },
        {
         "name": "pos_OT",
         "rawType": "uint8",
         "type": "integer"
        },
        {
         "name": "pos_P",
         "rawType": "uint8",
         "type": "integer"
        },
        {
         "name": "pos_QB",
         "rawType": "uint8",
         "type": "integer"
        },
        {
         "name": "pos_RB",
         "rawType": "uint8",
         "type": "integer"
        },
        {
         "name": "pos_S",
         "rawType": "uint8",
         "type": "integer"
        },
        {
         "name": "pos_TE",
         "rawType": "uint8",
         "type": "integer"
        },
        {
         "name": "pos_WR",
         "rawType": "uint8",
         "type": "integer"
        },
        {
         "name": "school_encoded",
         "rawType": "float64",
         "type": "float"
        }
       ],
       "conversionMethod": "pd.DataFrame",
       "ref": "6e814d65-ca30-4417-a900-164e377df791",
       "rows": [
        [
         "0",
         "2014",
         "2014.0",
         "5.0",
         "176.0",
         "-1.0599318621537055",
         "-0.7798667426238444",
         "-1.9989378794221917",
         "-0.8149953680070285",
         "-0.1344957027010682",
         "-1.5511589739382234",
         "-1.63073323741257",
         "-0.3895736776080576",
         "-1.1915307312453474",
         "-0.25939125370258026",
         "-0.3706607293348942",
         "1",
         "0",
         "0",
         "0",
         "0",
         "0",
         "0",
         "0",
         "0",
         "0",
         "0",
         "0",
         "0",
         "0",
         "0",
         "0",
         "0",
         "0",
         "0",
         "0",
         "0",
         "1",
         "0.0149812734082397"
        ],
        [
         "1",
         "2014",
         "2014.0",
         "2.0",
         "53.0",
         "-0.6905056537563685",
         "-0.5598363146947057",
         "-1.511720293931714",
         "1.6763338131669792",
         "0.6609343507446538",
         "-1.5511589739382234",
         "-0.6215939161757219",
         "-0.3895736776080576",
         "-0.6933005329328568",
         "-0.04088890251397979",
         "1.0338154607228256",
         "1",
         "0",
         "0",
         "0",
         "0",
         "0",
         "0",
         "0",
         "0",
         "0",
         "0",
         "0",
         "0",
         "0",
         "0",
         "0",
         "0",
         "0",
         "0",
         "0",
         "0",
         "1",
         "0.0032771535580524347"
        ],
        [
         "2",
         "2014",
         "2014.0",
         "4.0",
         "110.0",
         "-0.5166580262752688",
         "-0.7798667426238444",
         "-0.05006753746028059",
         "1.2611122829713113",
         "0.6609343507446538",
         "-0.9903910740773123",
         "1.497598658421666",
         "-0.3895736776080576",
         "-0.4588392631387431",
         "0.6419613744243213",
         "0.8933678417170536",
         "1",
         "0",
         "0",
         "0",
         "0",
         "0",
         "0",
         "0",
         "0",
         "0",
         "0",
         "0",
         "0",
         "0",
         "0",
         "0",
         "0",
         "0",
         "0",
         "1",
         "0",
         "0",
         "0.0023408239700374533"
        ],
        [
         "3",
         "2014",
         "2014.0",
         "5.0",
         "147.0",
         "-1.233779489634805",
         "-0.376477624753753",
         "-1.7553290866769529",
         "0.5690763993118646",
         "-0.1344957027010682",
         "-0.041399243543452834",
         "-1.63073323741257",
         "-1.9015330009505849",
         "-0.7721498924369731",
         "-1.1686556177052276",
         "0.09749800068434573",
         "1",
         "1",
         "0",
         "0",
         "0",
         "0",
         "0",
         "0",
         "0",
         "0",
         "0",
         "0",
         "0",
         "0",
         "0",
         "0",
         "0",
         "0",
         "0",
         "0",
         "0",
         "0",
         "0.006554307116104869"
        ],
        [
         "4",
         "2014",
         "2014.0",
         "2.0",
         "49.0",
         "0.4612348783059172",
         "0.1002549690927167",
         "1.8988028045016305",
         "-0.12295948434758194",
         "-0.0019240271267812151",
         "1.5546324714453028",
         "-0.6215939161757219",
         "1.1223856457344696",
         "0.07405197463647986",
         "0.471408506817805",
         "-0.04294961832142625",
         "1",
         "0",
         "0",
         "0",
         "0",
         "0",
         "0",
         "0",
         "0",
         "0",
         "0",
         "0",
         "0",
         "0",
         "0",
         "0",
         "0",
         "0",
         "0",
         "0",
         "1",
         "0",
         "0.006086142322097378"
        ]
       ],
       "shape": {
        "columns": 38,
        "rows": 5
       }
      },
      "text/html": [
       "<div>\n",
       "<style scoped>\n",
       "    .dataframe tbody tr th:only-of-type {\n",
       "        vertical-align: middle;\n",
       "    }\n",
       "\n",
       "    .dataframe tbody tr th {\n",
       "        vertical-align: top;\n",
       "    }\n",
       "\n",
       "    .dataframe thead th {\n",
       "        text-align: right;\n",
       "    }\n",
       "</style>\n",
       "<table border=\"1\" class=\"dataframe\">\n",
       "  <thead>\n",
       "    <tr style=\"text-align: right;\">\n",
       "      <th></th>\n",
       "      <th>season</th>\n",
       "      <th>draft_year</th>\n",
       "      <th>draft_round</th>\n",
       "      <th>draft_ovr</th>\n",
       "      <th>wt_lbs</th>\n",
       "      <th>forty_time_s</th>\n",
       "      <th>bench_reps</th>\n",
       "      <th>vertical_in</th>\n",
       "      <th>broad_jump_in</th>\n",
       "      <th>cone_sec</th>\n",
       "      <th>...</th>\n",
       "      <th>pos_OL</th>\n",
       "      <th>pos_OLB</th>\n",
       "      <th>pos_OT</th>\n",
       "      <th>pos_P</th>\n",
       "      <th>pos_QB</th>\n",
       "      <th>pos_RB</th>\n",
       "      <th>pos_S</th>\n",
       "      <th>pos_TE</th>\n",
       "      <th>pos_WR</th>\n",
       "      <th>school_encoded</th>\n",
       "    </tr>\n",
       "  </thead>\n",
       "  <tbody>\n",
       "    <tr>\n",
       "      <th>0</th>\n",
       "      <td>2014</td>\n",
       "      <td>2014.0</td>\n",
       "      <td>5.0</td>\n",
       "      <td>176.0</td>\n",
       "      <td>-1.059932</td>\n",
       "      <td>-0.779867</td>\n",
       "      <td>-1.998938</td>\n",
       "      <td>-0.814995</td>\n",
       "      <td>-0.134496</td>\n",
       "      <td>-1.551159</td>\n",
       "      <td>...</td>\n",
       "      <td>0</td>\n",
       "      <td>0</td>\n",
       "      <td>0</td>\n",
       "      <td>0</td>\n",
       "      <td>0</td>\n",
       "      <td>0</td>\n",
       "      <td>0</td>\n",
       "      <td>0</td>\n",
       "      <td>1</td>\n",
       "      <td>0.014981</td>\n",
       "    </tr>\n",
       "    <tr>\n",
       "      <th>1</th>\n",
       "      <td>2014</td>\n",
       "      <td>2014.0</td>\n",
       "      <td>2.0</td>\n",
       "      <td>53.0</td>\n",
       "      <td>-0.690506</td>\n",
       "      <td>-0.559836</td>\n",
       "      <td>-1.511720</td>\n",
       "      <td>1.676334</td>\n",
       "      <td>0.660934</td>\n",
       "      <td>-1.551159</td>\n",
       "      <td>...</td>\n",
       "      <td>0</td>\n",
       "      <td>0</td>\n",
       "      <td>0</td>\n",
       "      <td>0</td>\n",
       "      <td>0</td>\n",
       "      <td>0</td>\n",
       "      <td>0</td>\n",
       "      <td>0</td>\n",
       "      <td>1</td>\n",
       "      <td>0.003277</td>\n",
       "    </tr>\n",
       "    <tr>\n",
       "      <th>2</th>\n",
       "      <td>2014</td>\n",
       "      <td>2014.0</td>\n",
       "      <td>4.0</td>\n",
       "      <td>110.0</td>\n",
       "      <td>-0.516658</td>\n",
       "      <td>-0.779867</td>\n",
       "      <td>-0.050068</td>\n",
       "      <td>1.261112</td>\n",
       "      <td>0.660934</td>\n",
       "      <td>-0.990391</td>\n",
       "      <td>...</td>\n",
       "      <td>0</td>\n",
       "      <td>0</td>\n",
       "      <td>0</td>\n",
       "      <td>0</td>\n",
       "      <td>0</td>\n",
       "      <td>0</td>\n",
       "      <td>1</td>\n",
       "      <td>0</td>\n",
       "      <td>0</td>\n",
       "      <td>0.002341</td>\n",
       "    </tr>\n",
       "    <tr>\n",
       "      <th>3</th>\n",
       "      <td>2014</td>\n",
       "      <td>2014.0</td>\n",
       "      <td>5.0</td>\n",
       "      <td>147.0</td>\n",
       "      <td>-1.233779</td>\n",
       "      <td>-0.376478</td>\n",
       "      <td>-1.755329</td>\n",
       "      <td>0.569076</td>\n",
       "      <td>-0.134496</td>\n",
       "      <td>-0.041399</td>\n",
       "      <td>...</td>\n",
       "      <td>0</td>\n",
       "      <td>0</td>\n",
       "      <td>0</td>\n",
       "      <td>0</td>\n",
       "      <td>0</td>\n",
       "      <td>0</td>\n",
       "      <td>0</td>\n",
       "      <td>0</td>\n",
       "      <td>0</td>\n",
       "      <td>0.006554</td>\n",
       "    </tr>\n",
       "    <tr>\n",
       "      <th>4</th>\n",
       "      <td>2014</td>\n",
       "      <td>2014.0</td>\n",
       "      <td>2.0</td>\n",
       "      <td>49.0</td>\n",
       "      <td>0.461235</td>\n",
       "      <td>0.100255</td>\n",
       "      <td>1.898803</td>\n",
       "      <td>-0.122959</td>\n",
       "      <td>-0.001924</td>\n",
       "      <td>1.554632</td>\n",
       "      <td>...</td>\n",
       "      <td>0</td>\n",
       "      <td>0</td>\n",
       "      <td>0</td>\n",
       "      <td>0</td>\n",
       "      <td>0</td>\n",
       "      <td>0</td>\n",
       "      <td>0</td>\n",
       "      <td>1</td>\n",
       "      <td>0</td>\n",
       "      <td>0.006086</td>\n",
       "    </tr>\n",
       "  </tbody>\n",
       "</table>\n",
       "<p>5 rows × 38 columns</p>\n",
       "</div>"
      ],
      "text/plain": [
       "   season  draft_year  draft_round  draft_ovr    wt_lbs  forty_time_s  \\\n",
       "0    2014      2014.0          5.0      176.0 -1.059932     -0.779867   \n",
       "1    2014      2014.0          2.0       53.0 -0.690506     -0.559836   \n",
       "2    2014      2014.0          4.0      110.0 -0.516658     -0.779867   \n",
       "3    2014      2014.0          5.0      147.0 -1.233779     -0.376478   \n",
       "4    2014      2014.0          2.0       49.0  0.461235      0.100255   \n",
       "\n",
       "   bench_reps  vertical_in  broad_jump_in  cone_sec  ...  pos_OL  pos_OLB  \\\n",
       "0   -1.998938    -0.814995      -0.134496 -1.551159  ...       0        0   \n",
       "1   -1.511720     1.676334       0.660934 -1.551159  ...       0        0   \n",
       "2   -0.050068     1.261112       0.660934 -0.990391  ...       0        0   \n",
       "3   -1.755329     0.569076      -0.134496 -0.041399  ...       0        0   \n",
       "4    1.898803    -0.122959      -0.001924  1.554632  ...       0        0   \n",
       "\n",
       "   pos_OT  pos_P  pos_QB  pos_RB  pos_S  pos_TE  pos_WR  school_encoded  \n",
       "0       0      0       0       0      0       0       1        0.014981  \n",
       "1       0      0       0       0      0       0       1        0.003277  \n",
       "2       0      0       0       0      1       0       0        0.002341  \n",
       "3       0      0       0       0      0       0       0        0.006554  \n",
       "4       0      0       0       0      0       1       0        0.006086  \n",
       "\n",
       "[5 rows x 38 columns]"
      ]
     },
     "execution_count": 57,
     "metadata": {},
     "output_type": "execute_result"
    }
   ],
   "source": [
    "# 7. Save the cleaned data to a new CSV for later use\n",
    "processed_data_path = \"../data/processed/combine_preprocessed.csv\"\n",
    "df_model.to_csv(processed_data_path, index=False)\n",
    "\n",
    "# Confirm data saved\n",
    "print(f\"Preprocessed data saved to: {processed_data_path}\")\n",
    "\n",
    "# 8. Final check of the data\n",
    "print(f\"Final shape of preprocessed data: {df_model.shape}\")\n",
    "df_model.head()"
   ]
  }
 ],
 "metadata": {
  "kernelspec": {
   "display_name": ".venv",
   "language": "python",
   "name": "python3"
  },
  "language_info": {
   "codemirror_mode": {
    "name": "ipython",
    "version": 3
   },
   "file_extension": ".py",
   "mimetype": "text/x-python",
   "name": "python",
   "nbconvert_exporter": "python",
   "pygments_lexer": "ipython3",
   "version": "3.10.12"
  }
 },
 "nbformat": 4,
 "nbformat_minor": 2
}
